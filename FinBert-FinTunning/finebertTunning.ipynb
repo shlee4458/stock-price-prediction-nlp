{
 "cells": [
  {
   "cell_type": "markdown",
   "metadata": {},
   "source": [
    "## Set up Packages"
   ]
  },
  {
   "cell_type": "code",
   "execution_count": 13,
   "metadata": {},
   "outputs": [],
   "source": [
    "import numpy as np\n",
    "import pandas as pd\n",
    "from transformers import BertTokenizer, Trainer, BertForSequenceClassification, TrainingArguments, logging\n",
    "from datasets import Dataset, load_dataset\n",
    "import torch\n",
    "import logging\n",
    "from sklearn.model_selection import train_test_split\n",
    "from sklearn.metrics import accuracy_score"
   ]
  },
  {
   "cell_type": "markdown",
   "metadata": {},
   "source": [
    "## Load Model and Tokenizer"
   ]
  },
  {
   "cell_type": "code",
   "execution_count": 14,
   "metadata": {},
   "outputs": [
    {
     "name": "stderr",
     "output_type": "stream",
     "text": [
      "Some weights of BertForSequenceClassification were not initialized from the model checkpoint at yiyanghkust/finbert-pretrain and are newly initialized: ['classifier.bias', 'classifier.weight']\n",
      "You should probably TRAIN this model on a down-stream task to be able to use it for predictions and inference.\n"
     ]
    }
   ],
   "source": [
    "model = BertForSequenceClassification.from_pretrained('yiyanghkust/finbert-pretrain',num_labels=3)\n",
    "tokenizer = BertTokenizer.from_pretrained('yiyanghkust/finbert-pretrain')"
   ]
  },
  {
   "cell_type": "markdown",
   "metadata": {},
   "source": [
    "## Load up Dataset"
   ]
  },
  {
   "cell_type": "code",
   "execution_count": 15,
   "metadata": {},
   "outputs": [
    {
     "name": "stdout",
     "output_type": "stream",
     "text": [
      "Dataset({\n",
      "    features: ['sentence', 'label'],\n",
      "    num_rows: 2264\n",
      "})\n",
      "(1584, 2)\n",
      "(340, 2)\n",
      "(340, 2)\n"
     ]
    },
    {
     "data": {
      "application/vnd.jupyter.widget-view+json": {
       "model_id": "3602b3d5641e4733a6c781e062e8bad5",
       "version_major": 2,
       "version_minor": 0
      },
      "text/plain": [
       "Map:   0%|          | 0/1584 [00:00<?, ? examples/s]"
      ]
     },
     "metadata": {},
     "output_type": "display_data"
    },
    {
     "data": {
      "application/vnd.jupyter.widget-view+json": {
       "model_id": "faafd7fde75b483c9fff1bc5694167a3",
       "version_major": 2,
       "version_minor": 0
      },
      "text/plain": [
       "Map:   0%|          | 0/1584 [00:00<?, ? examples/s]"
      ]
     },
     "metadata": {},
     "output_type": "display_data"
    },
    {
     "data": {
      "application/vnd.jupyter.widget-view+json": {
       "model_id": "9e0ab1ab004848dfb7f2eda8d02c8b9b",
       "version_major": 2,
       "version_minor": 0
      },
      "text/plain": [
       "Map:   0%|          | 0/1584 [00:00<?, ? examples/s]"
      ]
     },
     "metadata": {},
     "output_type": "display_data"
    },
    {
     "name": "stdout",
     "output_type": "stream",
     "text": [
      "Dataset({\n",
      "    features: ['sentence', 'label', 'input_ids', 'token_type_ids', 'attention_mask'],\n",
      "    num_rows: 1584\n",
      "})\n"
     ]
    }
   ],
   "source": [
    "dataset = load_dataset(\"financial_phrasebank\", \"sentences_allagree\")[\"train\"]\n",
    "print(dataset)\n",
    "\n",
    "x = dataset[\"sentence\"]\n",
    "y = dataset[\"label\"]\n",
    "\n",
    "x_train, x_temp, y_train,y_temp = train_test_split(x,y,test_size=0.3, random_state=42, shuffle=True)\n",
    "x_test, x_eval, y_test, y_eval = train_test_split(x_temp, y_temp,test_size = 0.5, random_state = 42, shuffle = True)\n",
    "\n",
    "train_df = pd.DataFrame({\n",
    "    \"sentence\": x_train,\n",
    "    \"label\": y_train\n",
    "})\n",
    "\n",
    "test_df = pd.DataFrame({\n",
    "    \"sentence\": x_test,\n",
    "    \"label\": y_test\n",
    "})\n",
    "\n",
    "eval_df = pd.DataFrame({\n",
    "    \"sentence\": x_eval,\n",
    "    \"label\": x_eval\n",
    "})\n",
    "\n",
    "\n",
    "print(train_df.shape)\n",
    "print(test_df.shape)\n",
    "print(eval_df.shape)\n",
    "\n",
    "train_ds = Dataset.from_pandas(train_df)\n",
    "test_ds = Dataset.from_pandas(test_df)\n",
    "eval_ds = Dataset.from_pandas(eval_df)\n",
    "\n",
    "train_ds = train_ds.map(lambda x: tokenizer(x[\"sentence\"],truncation = True, padding = \"max_length\", max_length = 256), batched = True)\n",
    "test_ds = train_ds.map(lambda x: tokenizer(x[\"sentence\"],truncation = True, padding = \"max_length\", max_length = 256), batched = True)\n",
    "eval_ds = train_ds.map(lambda x: tokenizer(x[\"sentence\"],truncation = True, padding = \"max_length\", max_length = 256), batched = True)\n",
    "\n",
    "print(train_ds)\n"
   ]
  },
  {
   "cell_type": "markdown",
   "metadata": {},
   "source": [
    "## Evaluation Function and Argument Set Up"
   ]
  },
  {
   "cell_type": "code",
   "execution_count": 19,
   "metadata": {},
   "outputs": [],
   "source": [
    "def evaluation(datapoint):\n",
    "    predictions, labels = datapoint\n",
    "    predictions = np.argmax(predictions,axis = 1)\n",
    "    return {'accuracy': accuracy_score(predictions, labels)}\n",
    "\n",
    "args = TrainingArguments(\n",
    "    logging_dir='./logs',\n",
    "    output_dir = 'temp/',\n",
    "    logging_strategy='epoch',\n",
    "    evaluation_strategy = 'epoch',\n",
    "    save_strategy = 'epoch',\n",
    "    learning_rate=2e-5,\n",
    "    per_device_train_batch_size=32,\n",
    "    per_device_eval_batch_size=32,\n",
    "    num_train_epochs=5,\n",
    "    weight_decay=0.01,\n",
    "    load_best_model_at_end=True,\n",
    "    metric_for_best_model='accuracy',\n",
    ")\n",
    "trainer = Trainer(\n",
    "    model=model,                         \n",
    "    args=args,                  \n",
    "    train_dataset=train_ds,        \n",
    "    eval_dataset=eval_ds,            \n",
    "    compute_metrics=evaluation\n",
    ")"
   ]
  },
  {
   "cell_type": "markdown",
   "metadata": {},
   "source": [
    "## Run the model before the rest"
   ]
  },
  {
   "cell_type": "code",
   "execution_count": 20,
   "metadata": {},
   "outputs": [
    {
     "data": {
      "text/html": [],
      "text/plain": [
       "<IPython.core.display.HTML object>"
      ]
     },
     "metadata": {},
     "output_type": "display_data"
    },
    {
     "data": {
      "text/plain": [
       "{'test_loss': 1.1328144073486328,\n",
       " 'test_accuracy': 0.2588383838383838,\n",
       " 'test_runtime': 6.4235,\n",
       " 'test_samples_per_second': 246.595,\n",
       " 'test_steps_per_second': 7.784}"
      ]
     },
     "execution_count": 20,
     "metadata": {},
     "output_type": "execute_result"
    }
   ],
   "source": [
    "model.eval()\n",
    "trainer.predict(test_ds).metrics"
   ]
  },
  {
   "cell_type": "markdown",
   "metadata": {},
   "source": [
    "## Model Training"
   ]
  },
  {
   "cell_type": "code",
   "execution_count": 21,
   "metadata": {},
   "outputs": [
    {
     "name": "stderr",
     "output_type": "stream",
     "text": [
      "\u001b[34m\u001b[1mwandb\u001b[0m: Currently logged in as: \u001b[33mkensh1nhualuoweiyang\u001b[0m (\u001b[33mkensh1nhualuoweiyan\u001b[0m). Use \u001b[1m`wandb login --relogin`\u001b[0m to force relogin\n"
     ]
    },
    {
     "data": {
      "text/html": [
       "wandb version 0.16.5 is available!  To upgrade, please run:\n",
       " $ pip install wandb --upgrade"
      ],
      "text/plain": [
       "<IPython.core.display.HTML object>"
      ]
     },
     "metadata": {},
     "output_type": "display_data"
    },
    {
     "data": {
      "text/html": [
       "Tracking run with wandb version 0.16.4"
      ],
      "text/plain": [
       "<IPython.core.display.HTML object>"
      ]
     },
     "metadata": {},
     "output_type": "display_data"
    },
    {
     "data": {
      "text/html": [
       "Run data is saved locally in <code>D:\\2024 Spring\\CS6120\\Prj\\stock-price-prediction-nlp\\FinBert-FinTunning\\wandb\\run-20240330_010740-kyblezjx</code>"
      ],
      "text/plain": [
       "<IPython.core.display.HTML object>"
      ]
     },
     "metadata": {},
     "output_type": "display_data"
    },
    {
     "data": {
      "text/html": [
       "Syncing run <strong><a href='https://wandb.ai/kensh1nhualuoweiyan/huggingface/runs/kyblezjx' target=\"_blank\">royal-bee-3</a></strong> to <a href='https://wandb.ai/kensh1nhualuoweiyan/huggingface' target=\"_blank\">Weights & Biases</a> (<a href='https://wandb.me/run' target=\"_blank\">docs</a>)<br/>"
      ],
      "text/plain": [
       "<IPython.core.display.HTML object>"
      ]
     },
     "metadata": {},
     "output_type": "display_data"
    },
    {
     "data": {
      "text/html": [
       " View project at <a href='https://wandb.ai/kensh1nhualuoweiyan/huggingface' target=\"_blank\">https://wandb.ai/kensh1nhualuoweiyan/huggingface</a>"
      ],
      "text/plain": [
       "<IPython.core.display.HTML object>"
      ]
     },
     "metadata": {},
     "output_type": "display_data"
    },
    {
     "data": {
      "text/html": [
       " View run at <a href='https://wandb.ai/kensh1nhualuoweiyan/huggingface/runs/kyblezjx' target=\"_blank\">https://wandb.ai/kensh1nhualuoweiyan/huggingface/runs/kyblezjx</a>"
      ],
      "text/plain": [
       "<IPython.core.display.HTML object>"
      ]
     },
     "metadata": {},
     "output_type": "display_data"
    },
    {
     "data": {
      "text/html": [
       "\n",
       "    <div>\n",
       "      \n",
       "      <progress value='250' max='250' style='width:300px; height:20px; vertical-align: middle;'></progress>\n",
       "      [250/250 02:14, Epoch 5/5]\n",
       "    </div>\n",
       "    <table border=\"1\" class=\"dataframe\">\n",
       "  <thead>\n",
       " <tr style=\"text-align: left;\">\n",
       "      <th>Epoch</th>\n",
       "      <th>Training Loss</th>\n",
       "      <th>Validation Loss</th>\n",
       "      <th>Accuracy</th>\n",
       "    </tr>\n",
       "  </thead>\n",
       "  <tbody>\n",
       "    <tr>\n",
       "      <td>1</td>\n",
       "      <td>0.548400</td>\n",
       "      <td>0.181993</td>\n",
       "      <td>0.950126</td>\n",
       "    </tr>\n",
       "    <tr>\n",
       "      <td>2</td>\n",
       "      <td>0.135700</td>\n",
       "      <td>0.045543</td>\n",
       "      <td>0.988005</td>\n",
       "    </tr>\n",
       "    <tr>\n",
       "      <td>3</td>\n",
       "      <td>0.046800</td>\n",
       "      <td>0.017655</td>\n",
       "      <td>0.995581</td>\n",
       "    </tr>\n",
       "    <tr>\n",
       "      <td>4</td>\n",
       "      <td>0.023600</td>\n",
       "      <td>0.010628</td>\n",
       "      <td>0.997475</td>\n",
       "    </tr>\n",
       "    <tr>\n",
       "      <td>5</td>\n",
       "      <td>0.012200</td>\n",
       "      <td>0.008281</td>\n",
       "      <td>0.998106</td>\n",
       "    </tr>\n",
       "  </tbody>\n",
       "</table><p>"
      ],
      "text/plain": [
       "<IPython.core.display.HTML object>"
      ]
     },
     "metadata": {},
     "output_type": "display_data"
    },
    {
     "data": {
      "text/plain": [
       "TrainOutput(global_step=250, training_loss=0.15334275531768798, metrics={'train_runtime': 137.4501, 'train_samples_per_second': 57.621, 'train_steps_per_second': 1.819, 'total_flos': 1041929134202880.0, 'train_loss': 0.15334275531768798, 'epoch': 5.0})"
      ]
     },
     "execution_count": 21,
     "metadata": {},
     "output_type": "execute_result"
    }
   ],
   "source": [
    "trainer.train()"
   ]
  },
  {
   "cell_type": "markdown",
   "metadata": {},
   "source": [
    "## Complete and Save The Model"
   ]
  },
  {
   "cell_type": "code",
   "execution_count": 22,
   "metadata": {},
   "outputs": [],
   "source": [
    "trainer.save_model('finbertNLP/')"
   ]
  },
  {
   "cell_type": "code",
   "execution_count": null,
   "metadata": {},
   "outputs": [],
   "source": []
  },
  {
   "cell_type": "markdown",
   "metadata": {},
   "source": [
    "## Link to WandB\n",
    "https://wandb.ai/kensh1nhualuoweiyan/huggingface/reports/Fin-Bert-Fin-Tunning--Vmlldzo3MzQ5NjQ5"
   ]
  },
  {
   "cell_type": "code",
   "execution_count": null,
   "metadata": {},
   "outputs": [],
   "source": []
  }
 ],
 "metadata": {
  "kernelspec": {
   "display_name": "Python 3 (ipykernel)",
   "language": "python",
   "name": "python3"
  },
  "language_info": {
   "codemirror_mode": {
    "name": "ipython",
    "version": 3
   },
   "file_extension": ".py",
   "mimetype": "text/x-python",
   "name": "python",
   "nbconvert_exporter": "python",
   "pygments_lexer": "ipython3",
   "version": "3.11.1"
  }
 },
 "nbformat": 4,
 "nbformat_minor": 4
}
